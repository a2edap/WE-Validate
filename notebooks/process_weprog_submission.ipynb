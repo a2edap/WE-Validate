{
 "cells": [
  {
   "cell_type": "code",
   "execution_count": 1,
   "metadata": {},
   "outputs": [],
   "source": [
    "import pandas as pd\n",
    "import datetime\n",
    "import numpy as np\n",
    "\n",
    "file_dir = '/Users/leec813/OneDrive - PNNL/Documents/wfip2-iea36/'+\\\n",
    "    'benchmark-original-submissions/WEPROG/mseps_forecasts/'"
   ]
  },
  {
   "cell_type": "code",
   "execution_count": 2,
   "metadata": {},
   "outputs": [],
   "source": [
    "def process_weprog_data(file_name):\n",
    "\n",
    "    df = pd.read_csv(file_dir+file_name, skiprows=8, delimiter='\\t', header=0)\n",
    "\n",
    "    new_df = df.reset_index().T.reset_index().T.reset_index().drop(['index', 0], axis=1)\n",
    "\n",
    "    # duplicating values in first row leads to 'xx.1' column names\n",
    "    for ind, col in enumerate(new_df.iloc[0]):\n",
    "        if len(col.split('.')) > 2:\n",
    "            new_df.iloc[0][ind+1] = '.'.join(col.split('.')[:2])\n",
    "\n",
    "    new_df.iloc[0][1:] = new_df.iloc[0][1:].astype(float)\n",
    "\n",
    "    model_hgt_list = np.sort(np.array([35, 100, 170]))\n",
    "\n",
    "    new_df.loc[(new_df[2] == 10), 2] = 'ws_35'\n",
    "    new_df.loc[(new_df[2] == 11), 2] = 'ws_100'\n",
    "    new_df.loc[(new_df[2] == 12), 2] = 'ws_170'\n",
    "\n",
    "    new_df.loc[(new_df[2] == 34), 2] = 'wd_100'\n",
    "    new_df.loc[(new_df[2] == 55), 2] = 'wd_170'\n",
    "    new_df.loc[(new_df[2] == 56), 2] = 'wd_35'\n",
    "\n",
    "    for site in new_df[1].unique(): \n",
    "\n",
    "        if site == 'WFIP2':\n",
    "            target_hgt_list = [40, 80, 120]\n",
    "        elif site == 'FINO2':\n",
    "            target_hgt_list = [62, 72, 82, 92]\n",
    "        elif site == 'BALTIC2':\n",
    "            target_hgt_list = [78.25]\n",
    "\n",
    "        piv_df = new_df.loc[new_df[1] == site].pivot(index=3, columns=2).drop(1, axis=1)\n",
    "\n",
    "        date_list = [datetime.datetime.strptime(file_name.split('_')[0], '%Y%m%d%H')\n",
    "                     +datetime.timedelta(hours=1*x) for x in range(len(piv_df))]\n",
    "\n",
    "        piv_df.index = date_list\n",
    "\n",
    "        # first column yield error...\n",
    "        for member in piv_df.columns.levels[0][1:]:\n",
    "\n",
    "            ws_df = piv_df[member].filter(like='ws')\n",
    "\n",
    "            out_df = pd.DataFrame()\n",
    "\n",
    "            for t_hgt in target_hgt_list:\n",
    "\n",
    "                # given only 3 heights in model, select 2 indices (of heights) that are closest to t_hgt\n",
    "                two_hs = np.where(abs(t_hgt-model_hgt_list) != abs(t_hgt-model_hgt_list).max())[0]\n",
    "\n",
    "                alpha = np.log( (ws_df.filter(like=str(model_hgt_list[two_hs[1]])).squeeze()\n",
    "                                 /ws_df.filter(like=str(model_hgt_list[two_hs[0]])).squeeze()).astype(float) )\\\n",
    "                    /np.log(model_hgt_list[two_hs[1]]/model_hgt_list[two_hs[0]])\n",
    "\n",
    "                out_df['wind-speed_'+str(t_hgt)+'m'] = ws_df.filter(like=str(model_hgt_list[two_hs[1]])).squeeze()\\\n",
    "                    *(t_hgt/model_hgt_list[two_hs[1]])**alpha\n",
    "\n",
    "            out_df.index.name = 'time'\n",
    "\n",
    "            out_df.to_csv(file_dir+'processed/weprog_'+site+'_m'+str(member-3)+'.csv')"
   ]
  },
  {
   "cell_type": "code",
   "execution_count": 3,
   "metadata": {},
   "outputs": [],
   "source": [
    "process_weprog_data('2016092312_048h_mseps.csv')"
   ]
  },
  {
   "cell_type": "code",
   "execution_count": 4,
   "metadata": {},
   "outputs": [],
   "source": [
    "process_weprog_data('2020100400_168h_mseps.csv')"
   ]
  },
  {
   "cell_type": "code",
   "execution_count": null,
   "metadata": {},
   "outputs": [],
   "source": []
  }
 ],
 "metadata": {
  "kernelspec": {
   "display_name": "py38 ivalid",
   "language": "python",
   "name": "ivalid"
  },
  "language_info": {
   "codemirror_mode": {
    "name": "ipython",
    "version": 3
   },
   "file_extension": ".py",
   "mimetype": "text/x-python",
   "name": "python",
   "nbconvert_exporter": "python",
   "pygments_lexer": "ipython3",
   "version": "3.8.8"
  },
  "toc": {
   "base_numbering": 1,
   "nav_menu": {},
   "number_sections": true,
   "sideBar": true,
   "skip_h1_title": true,
   "title_cell": "Table of Contents",
   "title_sidebar": "Contents",
   "toc_cell": false,
   "toc_position": {},
   "toc_section_display": true,
   "toc_window_display": false
  }
 },
 "nbformat": 4,
 "nbformat_minor": 4
}
